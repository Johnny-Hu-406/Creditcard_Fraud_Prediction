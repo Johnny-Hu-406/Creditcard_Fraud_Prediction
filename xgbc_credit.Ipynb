{
 "cells": [
  {
   "cell_type": "code",
   "execution_count": 49,
   "metadata": {},
   "outputs": [],
   "source": [
    "import numpy as np\n",
    "import pandas as pd\n",
    "from sklearn.model_selection import train_test_split, KFold, cross_val_score\n",
    "\n",
    "from sklearn.feature_selection import SelectKBest, f_classif\n",
    "from sklearn.preprocessing import StandardScaler\n",
    "from sklearn.metrics import accuracy_score, classification_report, confusion_matrix\n",
    "from sklearn.utils import resample\n",
    "import pickle\n",
    "import hashlib\n",
    "import time  \n",
    "import xgboost as xgb\n",
    "from xgboost import XGBClassifier\n",
    "import math"
   ]
  },
  {
   "cell_type": "code",
   "execution_count": 50,
   "metadata": {},
   "outputs": [],
   "source": [
    "\n",
    "data1 = pd.read_csv(r\"public.csv\")\n",
    "data2 = pd.read_csv(r\"training.csv\")\n",
    "public1 = pd.read_csv(r\"public_processed.csv\")\n",
    "public2 = pd.read_csv(r\"private_1_processed.csv\")\n",
    "\n",
    "public_processed_df = pd.concat([public1, public2])\n",
    "data = pd.concat([data1, data2])\n",
    "\n",
    "public_processed_df = public_processed_df.reset_index(drop=True)\n",
    "data = data.reset_index(drop=True)"
   ]
  },
  {
   "cell_type": "code",
   "execution_count": 51,
   "metadata": {},
   "outputs": [],
   "source": [
    "#把特定的資料轉換成整數\n",
    "def hash_to_int(value):\n",
    "    return int(hashlib.sha256(value.encode()).hexdigest(), 16)"
   ]
  },
  {
   "cell_type": "code",
   "execution_count": 52,
   "metadata": {},
   "outputs": [],
   "source": [
    "data[\"chid\"] = data[\"chid\"].apply(hash_to_int)\n",
    "data[\"cano\"] = data[\"cano\"].apply(hash_to_int)\n",
    "data[\"mchno\"]= data[\"mchno\"].apply(hash_to_int)\n",
    "data[\"acqic\"]= data[\"acqic\"].apply(hash_to_int)\n",
    "##loctm\n",
    "data['loctm_hh'] = data['loctm'].apply(lambda x: math.floor(x/10000))\n",
    "data['loctm_mm'] = data['loctm'].apply(lambda x: math.floor(x/100)-math.floor(x/10000)*100)\n",
    "data['loctm_ss'] = data['loctm'].apply(lambda x: math.floor(x)-math.floor(x/100)*100)\n",
    "data['weekday'] = data['locdt'] % 7\n",
    "data['conam3000'] = np.where(data['conam'] > 3000, 1, 0)\n"
   ]
  },
  {
   "cell_type": "code",
   "execution_count": 53,
   "metadata": {},
   "outputs": [
    {
     "name": "stdout",
     "output_type": "stream",
     "text": [
      "['etymd', 'mcc', 'stocn', 'scity', 'stscd', 'hcefg', 'csmcu']\n"
     ]
    }
   ],
   "source": [
    "# 列出包含NaN值的列名 並替換\n",
    "nan_columns = data.isnull().any()\n",
    "columns_with_nan = nan_columns[nan_columns].index.tolist()\n",
    "print(columns_with_nan)\n",
    "data[columns_with_nan] = data[columns_with_nan].fillna(-1)"
   ]
  },
  {
   "cell_type": "code",
   "execution_count": 54,
   "metadata": {},
   "outputs": [],
   "source": [
    "X = data.drop(['label','txkey'], axis=1) \n",
    "y = data['label']\n",
    "# 到這邊X有些特徵還是object，要用以下轉換轉換成int/float\n",
    "\n",
    "# Step 5 特徵選擇\n",
    "selector = SelectKBest(f_classif, k=\"all\")  # Change k value as needed \n",
    "X_new = selector.fit_transform(X, y)\n",
    "# 獲取選擇的特徵索引\n",
    "selected_feature_indices = selector.get_support(indices=True)\n",
    "# 獲取選擇的特徵名稱\n",
    "selected_feature_names = X.columns[selected_feature_indices]"
   ]
  },
  {
   "cell_type": "code",
   "execution_count": 77,
   "metadata": {},
   "outputs": [],
   "source": [
    "# Step 6 切割訓練測試集\n",
    "# Assuming X_new and y are the selected features and labels after feature selection\n",
    "X_train, X_test, y_train, y_test = train_test_split(X_new, y, test_size=0.2, random_state=15)\n",
    "\n",
    "# Step 7 特徵正規化，方便訓練並降低不同訓練資料特徵維度的比例\n",
    "sc = StandardScaler()\n",
    "X_train = sc.fit_transform(X_train)\n",
    "X_test = sc.transform(X_test)"
   ]
  },
  {
   "cell_type": "code",
   "execution_count": 78,
   "metadata": {},
   "outputs": [
    {
     "name": "stdout",
     "output_type": "stream",
     "text": [
      "CV score of XGB is  0.7613669843261159\n"
     ]
    }
   ],
   "source": [
    "# model = XGBClassifier(max_depth=20, \n",
    "#                     min_child_weight=5,\n",
    "#                     scale_pos_weight=5, \n",
    "#                     n_estimators=200, \n",
    "#                     gamma=0,\n",
    "#                     eval_metric=\"auc\",\n",
    "#                     tree_method='hist',  # 使用\"hist\"\n",
    "#                     # max_delta_step =1,\n",
    "#                     # colsample_bytree=0.7,\n",
    "#                     # colsample_bylevel=1,\n",
    "#                     seed=1440,\n",
    "#                     device='cuda')  # 使用\"cuda\"\n",
    "model = XGBClassifier(max_depth=20, \n",
    "                     min_child_weight=7.734890981711013,\n",
    "                     scale_pos_weight=5, \n",
    "                     gamma=3,\n",
    "                     random_state=42, \n",
    "                     eval_metric=\"auc\",\n",
    "                     tree_method='hist',  # 使用\"hist\"\n",
    "                     device='cuda')  # 使用\"cuda\"\n",
    "print(\"CV score of XGB is \",cross_val_score(model,X_train,y_train,cv=4, scoring = 'f1').mean())"
   ]
  },
  {
   "cell_type": "code",
   "execution_count": 79,
   "metadata": {},
   "outputs": [
    {
     "data": {
      "text/html": [
       "<style>#sk-container-id-4 {color: black;background-color: white;}#sk-container-id-4 pre{padding: 0;}#sk-container-id-4 div.sk-toggleable {background-color: white;}#sk-container-id-4 label.sk-toggleable__label {cursor: pointer;display: block;width: 100%;margin-bottom: 0;padding: 0.3em;box-sizing: border-box;text-align: center;}#sk-container-id-4 label.sk-toggleable__label-arrow:before {content: \"▸\";float: left;margin-right: 0.25em;color: #696969;}#sk-container-id-4 label.sk-toggleable__label-arrow:hover:before {color: black;}#sk-container-id-4 div.sk-estimator:hover label.sk-toggleable__label-arrow:before {color: black;}#sk-container-id-4 div.sk-toggleable__content {max-height: 0;max-width: 0;overflow: hidden;text-align: left;background-color: #f0f8ff;}#sk-container-id-4 div.sk-toggleable__content pre {margin: 0.2em;color: black;border-radius: 0.25em;background-color: #f0f8ff;}#sk-container-id-4 input.sk-toggleable__control:checked~div.sk-toggleable__content {max-height: 200px;max-width: 100%;overflow: auto;}#sk-container-id-4 input.sk-toggleable__control:checked~label.sk-toggleable__label-arrow:before {content: \"▾\";}#sk-container-id-4 div.sk-estimator input.sk-toggleable__control:checked~label.sk-toggleable__label {background-color: #d4ebff;}#sk-container-id-4 div.sk-label input.sk-toggleable__control:checked~label.sk-toggleable__label {background-color: #d4ebff;}#sk-container-id-4 input.sk-hidden--visually {border: 0;clip: rect(1px 1px 1px 1px);clip: rect(1px, 1px, 1px, 1px);height: 1px;margin: -1px;overflow: hidden;padding: 0;position: absolute;width: 1px;}#sk-container-id-4 div.sk-estimator {font-family: monospace;background-color: #f0f8ff;border: 1px dotted black;border-radius: 0.25em;box-sizing: border-box;margin-bottom: 0.5em;}#sk-container-id-4 div.sk-estimator:hover {background-color: #d4ebff;}#sk-container-id-4 div.sk-parallel-item::after {content: \"\";width: 100%;border-bottom: 1px solid gray;flex-grow: 1;}#sk-container-id-4 div.sk-label:hover label.sk-toggleable__label {background-color: #d4ebff;}#sk-container-id-4 div.sk-serial::before {content: \"\";position: absolute;border-left: 1px solid gray;box-sizing: border-box;top: 0;bottom: 0;left: 50%;z-index: 0;}#sk-container-id-4 div.sk-serial {display: flex;flex-direction: column;align-items: center;background-color: white;padding-right: 0.2em;padding-left: 0.2em;position: relative;}#sk-container-id-4 div.sk-item {position: relative;z-index: 1;}#sk-container-id-4 div.sk-parallel {display: flex;align-items: stretch;justify-content: center;background-color: white;position: relative;}#sk-container-id-4 div.sk-item::before, #sk-container-id-4 div.sk-parallel-item::before {content: \"\";position: absolute;border-left: 1px solid gray;box-sizing: border-box;top: 0;bottom: 0;left: 50%;z-index: -1;}#sk-container-id-4 div.sk-parallel-item {display: flex;flex-direction: column;z-index: 1;position: relative;background-color: white;}#sk-container-id-4 div.sk-parallel-item:first-child::after {align-self: flex-end;width: 50%;}#sk-container-id-4 div.sk-parallel-item:last-child::after {align-self: flex-start;width: 50%;}#sk-container-id-4 div.sk-parallel-item:only-child::after {width: 0;}#sk-container-id-4 div.sk-dashed-wrapped {border: 1px dashed gray;margin: 0 0.4em 0.5em 0.4em;box-sizing: border-box;padding-bottom: 0.4em;background-color: white;}#sk-container-id-4 div.sk-label label {font-family: monospace;font-weight: bold;display: inline-block;line-height: 1.2em;}#sk-container-id-4 div.sk-label-container {text-align: center;}#sk-container-id-4 div.sk-container {/* jupyter's `normalize.less` sets `[hidden] { display: none; }` but bootstrap.min.css set `[hidden] { display: none !important; }` so we also need the `!important` here to be able to override the default hidden behavior on the sphinx rendered scikit-learn.org. See: https://github.com/scikit-learn/scikit-learn/issues/21755 */display: inline-block !important;position: relative;}#sk-container-id-4 div.sk-text-repr-fallback {display: none;}</style><div id=\"sk-container-id-4\" class=\"sk-top-container\"><div class=\"sk-text-repr-fallback\"><pre>XGBClassifier(base_score=None, booster=None, callbacks=None,\n",
       "              colsample_bylevel=None, colsample_bynode=None,\n",
       "              colsample_bytree=None, device=&#x27;cuda&#x27;, early_stopping_rounds=None,\n",
       "              enable_categorical=False, eval_metric=&#x27;auc&#x27;, feature_types=None,\n",
       "              gamma=3, grow_policy=None, importance_type=None,\n",
       "              interaction_constraints=None, learning_rate=None, max_bin=None,\n",
       "              max_cat_threshold=None, max_cat_to_onehot=None,\n",
       "              max_delta_step=None, max_depth=20, max_leaves=None,\n",
       "              min_child_weight=7.734890981711013, missing=nan,\n",
       "              monotone_constraints=None, multi_strategy=None, n_estimators=None,\n",
       "              n_jobs=None, num_parallel_tree=None, random_state=42, ...)</pre><b>In a Jupyter environment, please rerun this cell to show the HTML representation or trust the notebook. <br />On GitHub, the HTML representation is unable to render, please try loading this page with nbviewer.org.</b></div><div class=\"sk-container\" hidden><div class=\"sk-item\"><div class=\"sk-estimator sk-toggleable\"><input class=\"sk-toggleable__control sk-hidden--visually\" id=\"sk-estimator-id-4\" type=\"checkbox\" checked><label for=\"sk-estimator-id-4\" class=\"sk-toggleable__label sk-toggleable__label-arrow\">XGBClassifier</label><div class=\"sk-toggleable__content\"><pre>XGBClassifier(base_score=None, booster=None, callbacks=None,\n",
       "              colsample_bylevel=None, colsample_bynode=None,\n",
       "              colsample_bytree=None, device=&#x27;cuda&#x27;, early_stopping_rounds=None,\n",
       "              enable_categorical=False, eval_metric=&#x27;auc&#x27;, feature_types=None,\n",
       "              gamma=3, grow_policy=None, importance_type=None,\n",
       "              interaction_constraints=None, learning_rate=None, max_bin=None,\n",
       "              max_cat_threshold=None, max_cat_to_onehot=None,\n",
       "              max_delta_step=None, max_depth=20, max_leaves=None,\n",
       "              min_child_weight=7.734890981711013, missing=nan,\n",
       "              monotone_constraints=None, multi_strategy=None, n_estimators=None,\n",
       "              n_jobs=None, num_parallel_tree=None, random_state=42, ...)</pre></div></div></div></div></div>"
      ],
      "text/plain": [
       "XGBClassifier(base_score=None, booster=None, callbacks=None,\n",
       "              colsample_bylevel=None, colsample_bynode=None,\n",
       "              colsample_bytree=None, device='cuda', early_stopping_rounds=None,\n",
       "              enable_categorical=False, eval_metric='auc', feature_types=None,\n",
       "              gamma=3, grow_policy=None, importance_type=None,\n",
       "              interaction_constraints=None, learning_rate=None, max_bin=None,\n",
       "              max_cat_threshold=None, max_cat_to_onehot=None,\n",
       "              max_delta_step=None, max_depth=20, max_leaves=None,\n",
       "              min_child_weight=7.734890981711013, missing=nan,\n",
       "              monotone_constraints=None, multi_strategy=None, n_estimators=None,\n",
       "              n_jobs=None, num_parallel_tree=None, random_state=42, ...)"
      ]
     },
     "execution_count": 79,
     "metadata": {},
     "output_type": "execute_result"
    }
   ],
   "source": [
    "model.fit(X_train,y_train)\n"
   ]
  },
  {
   "cell_type": "code",
   "execution_count": 80,
   "metadata": {},
   "outputs": [],
   "source": [
    "y_pred = model.predict(X_test)"
   ]
  },
  {
   "cell_type": "code",
   "execution_count": 81,
   "metadata": {},
   "outputs": [
    {
     "name": "stdout",
     "output_type": "stream",
     "text": [
      "y_pred Classification Report: \n",
      "              precision    recall  f1-score   support\n",
      "\n",
      "           0       1.00      1.00      1.00   1852570\n",
      "           1       0.83      0.74      0.79      6944\n",
      "\n",
      "    accuracy                           1.00   1859514\n",
      "   macro avg       0.92      0.87      0.89   1859514\n",
      "weighted avg       1.00      1.00      1.00   1859514\n",
      "\n",
      "Confusion Matrix: \n",
      "[[1851536    1034]\n",
      " [   1781    5163]]\n"
     ]
    }
   ],
   "source": [
    "print(\"y_pred Classification Report: \")\n",
    "print(classification_report(y_test, y_pred))\n",
    "print(\"Confusion Matrix: \")\n",
    "print(confusion_matrix(y_test, y_pred))"
   ]
  },
  {
   "cell_type": "code",
   "execution_count": 82,
   "metadata": {},
   "outputs": [],
   "source": [
    "public1 = pd.read_csv(r\"public_processed.csv\")\n",
    "public2 = pd.read_csv(r\"private_1_processed.csv\")\n",
    "public_processed_df = pd.concat([public1, public2])\n",
    "\n",
    "public_feature = public_processed_df.drop(['txkey'], axis=1)\n",
    "public_name = public_processed_df['txkey']\n",
    "\n",
    "public_feature[\"chid\"] = public_feature[\"chid\"].apply(hash_to_int)\n",
    "public_feature[\"cano\"] = public_feature[\"cano\"].apply(hash_to_int)\n",
    "public_feature[\"mchno\"]= public_feature[\"mchno\"].apply(hash_to_int)\n",
    "public_feature[\"acqic\"]= public_feature[\"acqic\"].apply(hash_to_int)"
   ]
  },
  {
   "cell_type": "code",
   "execution_count": 83,
   "metadata": {},
   "outputs": [],
   "source": [
    "public_feature['loctm_hh'] = public_feature['loctm'].apply(lambda x: math.floor(x/10000))\n",
    "public_feature['loctm_mm'] = public_feature['loctm'].apply(lambda x: math.floor(x/100)-math.floor(x/10000)*100)\n",
    "public_feature['loctm_ss'] = public_feature['loctm'].apply(lambda x: math.floor(x)-math.floor(x/100)*100)\n",
    "public_feature['weekday'] = public_feature['locdt'] % 7\n",
    "public_feature['conam3000'] = np.where(public_feature['conam'] > 3000, 1, 0)"
   ]
  },
  {
   "cell_type": "code",
   "execution_count": 84,
   "metadata": {},
   "outputs": [
    {
     "name": "stdout",
     "output_type": "stream",
     "text": [
      "['etymd', 'mcc', 'stocn', 'scity', 'stscd', 'hcefg', 'csmcu']\n"
     ]
    }
   ],
   "source": [
    "#  自己設計的資料清理\n",
    "public_feature_nan_columns = public_feature.isnull().any()\n",
    "public_feature_columns_with_nan = public_feature_nan_columns[public_feature_nan_columns].index.tolist()\n",
    "print(public_feature_columns_with_nan)\n",
    "public_feature[public_feature_columns_with_nan] = public_feature[public_feature_columns_with_nan].fillna(-1)\n",
    "public_training_5 = public_feature[selected_feature_names]"
   ]
  },
  {
   "cell_type": "code",
   "execution_count": 85,
   "metadata": {},
   "outputs": [
    {
     "name": "stderr",
     "output_type": "stream",
     "text": [
      "c:\\Users\\user\\anaconda3\\Lib\\site-packages\\sklearn\\base.py:432: UserWarning: X has feature names, but StandardScaler was fitted without feature names\n",
      "  warnings.warn(\n"
     ]
    }
   ],
   "source": [
    "#  使用訓練集的sc進行縮放\n",
    "public_X_new = sc.transform(public_training_5)\n",
    "\n",
    "# 使用上面的xgbc測試集辨識\n",
    "public_y_pred = model.predict(public_X_new)\n",
    "\n",
    "# 製作與儲存可以上傳的csv檔案\n",
    "public_y_pred = pd.DataFrame(public_y_pred, columns=[\"pred\"])\n",
    "\n",
    "public_y_pred = public_y_pred.reset_index(drop=True)\n",
    "public_name = public_name.reset_index(drop=True)\n",
    "\n",
    "result = pd.concat([public_name, public_y_pred], axis=1)\n",
    "result.to_csv(r\"result.csv\",index=False)"
   ]
  },
  {
   "cell_type": "code",
   "execution_count": 86,
   "metadata": {},
   "outputs": [
    {
     "data": {
      "text/plain": [
       "(1354321, 2)"
      ]
     },
     "execution_count": 86,
     "metadata": {},
     "output_type": "execute_result"
    }
   ],
   "source": [
    "result.shape"
   ]
  }
 ],
 "metadata": {
  "kernelspec": {
   "display_name": "base",
   "language": "python",
   "name": "python3"
  },
  "language_info": {
   "codemirror_mode": {
    "name": "ipython",
    "version": 3
   },
   "file_extension": ".py",
   "mimetype": "text/x-python",
   "name": "python",
   "nbconvert_exporter": "python",
   "pygments_lexer": "ipython3",
   "version": "3.11.5"
  }
 },
 "nbformat": 4,
 "nbformat_minor": 2
}
